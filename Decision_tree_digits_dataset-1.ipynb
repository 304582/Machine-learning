{
 "cells": [
  {
   "cell_type": "markdown",
   "id": "d2ce2015-5a8a-485a-9231-006c669c1d07",
   "metadata": {},
   "source": [
    "# What have we here, now?\n",
    "<hr style = \"border: none; height: 4px; background-color: rebeccapurple;\">\n",
    "\n",
    "- This project aims to develop a decision tree that will predict digits in images, using the digits dataset.\n",
    "- This is a dataset of 8x8 grayscale images of handwritten digits (0–9) and their corresponding labels.\n",
    "- Each image is represented as a flattened 64-dimensional feature vector.\n",
    "\n",
    "<hr style = \"border: none; height: 4px; background-color: rebeccapurple;\">\n",
    "\n",
    "### Now, let's import the necessary libraries and load the dataset.\n",
    "\n",
    "<hr style = \"border: none; height: 4px; background-color: rebeccapurple;\">"
   ]
  },
  {
   "cell_type": "code",
   "execution_count": 1,
   "id": "7cf69a73-4b06-4e82-82b5-1520271ff79b",
   "metadata": {},
   "outputs": [],
   "source": [
    "import numpy as np\n",
    "import seaborn as sns\n",
    "import matplotlib.pyplot as plt"
   ]
  },
  {
   "cell_type": "code",
   "execution_count": 2,
   "id": "7d1bc574-6493-40ed-99fc-cdb7b07dc2de",
   "metadata": {},
   "outputs": [],
   "source": [
    "%matplotlib inline"
   ]
  },
  {
   "cell_type": "code",
   "execution_count": 3,
   "id": "713970a5-560f-4341-9b76-d7a3c73254ae",
   "metadata": {},
   "outputs": [],
   "source": [
    "from sklearn import metrics\n",
    "from sklearn.datasets import load_digits\n",
    "from sklearn.metrics import confusion_matrix\n",
    "from sklearn.tree import DecisionTreeClassifier\n",
    "from sklearn.preprocessing import StandardScaler\n",
    "from sklearn.metrics import classification_report\n",
    "from sklearn.model_selection import train_test_split"
   ]
  },
  {
   "cell_type": "code",
   "execution_count": 4,
   "id": "3c4d58ce-2a9b-463e-83bc-24797e124dc1",
   "metadata": {},
   "outputs": [],
   "source": [
    "digits = load_digits()"
   ]
  },
  {
   "cell_type": "code",
   "execution_count": 5,
   "id": "2cf6d5ac-0b72-4823-b2c6-2b0ea2d107db",
   "metadata": {},
   "outputs": [
    {
     "name": "stdout",
     "output_type": "stream",
     "text": [
      "Image Data Shape (1797, 64)\n",
      "Label Data Shape (1797,)\n"
     ]
    }
   ],
   "source": [
    "print(\"Image Data Shape\", digits.data.shape)\n",
    "print(\"Label Data Shape\", digits.target.shape)"
   ]
  },
  {
   "cell_type": "markdown",
   "id": "00aaf461-95ad-47ed-848a-c801523241df",
   "metadata": {},
   "source": [
    "<hr style = \"border: none; height: 4px; background-color: rebeccapurple;\">\n",
    "\n",
    "- The dataset contains 1,797 images of handwritten digits.\n",
    "- Each image is converted into a flattened vector of 64 pixel values.\n",
    "\n",
    "<hr style = \"border: none; height: 4px; background-color: rebeccapurple;\">\n",
    "\n",
    "### Now, let's view a sample of the dataset.\n",
    "\n",
    "<hr style = \"border: none; height: 4px; background-color: rebeccapurple;\">"
   ]
  },
  {
   "cell_type": "code",
   "execution_count": 6,
   "id": "d1049112-a3d9-404a-a4b5-57a08b070a6d",
   "metadata": {},
   "outputs": [
    {
     "data": {
      "image/png": "[encoded data removed]",
      "text/plain": [
       "<Figure size 2000x400 with 5 Axes>"
      ]
     },
     "metadata": {},
     "output_type": "display_data"
    }
   ],
   "source": [
    "plt.figure(figsize=(20,4))\n",
    "for index, (image, label) in enumerate(zip(digits.data[0:5], digits.target[0:5])):\n",
    "    plt.subplot(1, 5, index + 1)\n",
    "    plt.imshow(np.reshape(image, (8,8)), cmap=plt.cm.gray)\n",
    "    plt.title('TRAINING: %i\\n' %label, fontsize = 20)"
   ]
  },
  {
   "cell_type": "markdown",
   "id": "44c4e67a-1468-46a0-9a00-f25a663d2646",
   "metadata": {},
   "source": [
    "### Let's start building our algorithm.\n",
    "\n",
    "<hr style = \"border: none; height: 4px; background-color: rebeccapurple;\">\n",
    "\n",
    "- Let's split the data using a 70:30 ratio.\n",
    "- 70% for training the algorithm and 30% for testing the algorithm.\n",
    "\n",
    "<hr style = \"border: none; height: 4px; background-color: rebeccapurple;\">"
   ]
  },
  {
   "cell_type": "code",
   "execution_count": 7,
   "id": "7d5628cb-a267-481c-b826-8f55b3607b02",
   "metadata": {},
   "outputs": [],
   "source": [
    "x_train, x_test, y_train, y_test = train_test_split(digits.data, digits.target, test_size=0.30, random_state=2)"
   ]
  },
  {
   "cell_type": "code",
   "execution_count": 8,
   "id": "5f48f7ce-b6d7-40c4-94a6-6d98b366c18c",
   "metadata": {},
   "outputs": [
    {
     "name": "stdout",
     "output_type": "stream",
     "text": [
      "(1257, 64)\n"
     ]
    }
   ],
   "source": [
    "print(x_train.shape)"
   ]
  },
  {
   "cell_type": "code",
   "execution_count": 9,
   "id": "767e6dc5-d8b0-4aa6-a057-2974ed7b39d5",
   "metadata": {},
   "outputs": [
    {
     "name": "stdout",
     "output_type": "stream",
     "text": [
      "(1257,)\n"
     ]
    }
   ],
   "source": [
    "print(y_train.shape)"
   ]
  },
  {
   "cell_type": "code",
   "execution_count": 10,
   "id": "c599a8c8-f37f-4d41-9df2-3722908ac983",
   "metadata": {},
   "outputs": [
    {
     "name": "stdout",
     "output_type": "stream",
     "text": [
      "(540, 64)\n"
     ]
    }
   ],
   "source": [
    "print(x_test.shape)"
   ]
  },
  {
   "cell_type": "code",
   "execution_count": 11,
   "id": "6719a48e-47aa-4c05-ab13-811dbd9484ad",
   "metadata": {},
   "outputs": [
    {
     "name": "stdout",
     "output_type": "stream",
     "text": [
      "(540,)\n"
     ]
    }
   ],
   "source": [
    "print(y_test.shape)"
   ]
  },
  {
   "cell_type": "markdown",
   "id": "e28a80f0-896c-4f8f-a7e2-1e843ee20944",
   "metadata": {},
   "source": [
    "<hr style = \"border: none; height: 4px; background-color: rebeccapurple;\">\n",
    "\n",
    "- The training set contains 1257 samples.\n",
    "- The testing set contains 540 samples.\n",
    "\n",
    "<hr style = \"border: none; height: 4px; background-color: rebeccapurple;\">\n",
    "\n",
    "### Now, let's train our decision tree using the training set.\n",
    "\n",
    "<hr style = \"border: none; height: 4px; background-color: rebeccapurple;\">"
   ]
  },
  {
   "cell_type": "code",
   "execution_count": 12,
   "id": "16cd8e18-635c-4222-bcf1-9b7d56bfd0a8",
   "metadata": {},
   "outputs": [],
   "source": [
    "scaler = StandardScaler()\n",
    "x_train_scaled = scaler.fit_transform(x_train)\n",
    "x_test_scaled = scaler.transform(x_test)"
   ]
  },
  {
   "cell_type": "code",
   "execution_count": 13,
   "id": "8788c25f-0f96-4584-84ba-7ea6e07b503c",
   "metadata": {},
   "outputs": [
    {
     "data": {
      "text/html": [
       "<style>#sk-container-id-1 {color: black;}#sk-container-id-1 pre{padding: 0;}#sk-container-id-1 div.sk-toggleable {background-color: white;}#sk-container-id-1 label.sk-toggleable__label {cursor: pointer;display: block;width: 100%;margin-bottom: 0;padding: 0.3em;box-sizing: border-box;text-align: center;}#sk-container-id-1 label.sk-toggleable__label-arrow:before {content: \"▸\";float: left;margin-right: 0.25em;color: #696969;}#sk-container-id-1 label.sk-toggleable__label-arrow:hover:before {color: black;}#sk-container-id-1 div.sk-estimator:hover label.sk-toggleable__label-arrow:before {color: black;}#sk-container-id-1 div.sk-toggleable__content {max-height: 0;max-width: 0;overflow: hidden;text-align: left;background-color: #f0f8ff;}#sk-container-id-1 div.sk-toggleable__content pre {margin: 0.2em;color: black;border-radius: 0.25em;background-color: #f0f8ff;}#sk-container-id-1 input.sk-toggleable__control:checked~div.sk-toggleable__content {max-height: 200px;max-width: 100%;overflow: auto;}#sk-container-id-1 input.sk-toggleable__control:checked~label.sk-toggleable__label-arrow:before {content: \"▾\";}#sk-container-id-1 div.sk-estimator input.sk-toggleable__control:checked~label.sk-toggleable__label {background-color: #d4ebff;}#sk-container-id-1 div.sk-label input.sk-toggleable__control:checked~label.sk-toggleable__label {background-color: #d4ebff;}#sk-container-id-1 input.sk-hidden--visually {border: 0;clip: rect(1px 1px 1px 1px);clip: rect(1px, 1px, 1px, 1px);height: 1px;margin: -1px;overflow: hidden;padding: 0;position: absolute;width: 1px;}#sk-container-id-1 div.sk-estimator {font-family: monospace;background-color: #f0f8ff;border: 1px dotted black;border-radius: 0.25em;box-sizing: border-box;margin-bottom: 0.5em;}#sk-container-id-1 div.sk-estimator:hover {background-color: #d4ebff;}#sk-container-id-1 div.sk-parallel-item::after {content: \"\";width: 100%;border-bottom: 1px solid gray;flex-grow: 1;}#sk-container-id-1 div.sk-label:hover label.sk-toggleable__label {background-color: #d4ebff;}#sk-container-id-1 div.sk-serial::before {content: \"\";position: absolute;border-left: 1px solid gray;box-sizing: border-box;top: 0;bottom: 0;left: 50%;z-index: 0;}#sk-container-id-1 div.sk-serial {display: flex;flex-direction: column;align-items: center;background-color: white;padding-right: 0.2em;padding-left: 0.2em;position: relative;}#sk-container-id-1 div.sk-item {position: relative;z-index: 1;}#sk-container-id-1 div.sk-parallel {display: flex;align-items: stretch;justify-content: center;background-color: white;position: relative;}#sk-container-id-1 div.sk-item::before, #sk-container-id-1 div.sk-parallel-item::before {content: \"\";position: absolute;border-left: 1px solid gray;box-sizing: border-box;top: 0;bottom: 0;left: 50%;z-index: -1;}#sk-container-id-1 div.sk-parallel-item {display: flex;flex-direction: column;z-index: 1;position: relative;background-color: white;}#sk-container-id-1 div.sk-parallel-item:first-child::after {align-self: flex-end;width: 50%;}#sk-container-id-1 div.sk-parallel-item:last-child::after {align-self: flex-start;width: 50%;}#sk-container-id-1 div.sk-parallel-item:only-child::after {width: 0;}#sk-container-id-1 div.sk-dashed-wrapped {border: 1px dashed gray;margin: 0 0.4em 0.5em 0.4em;box-sizing: border-box;padding-bottom: 0.4em;background-color: white;}#sk-container-id-1 div.sk-label label {font-family: monospace;font-weight: bold;display: inline-block;line-height: 1.2em;}#sk-container-id-1 div.sk-label-container {text-align: center;}#sk-container-id-1 div.sk-container {/* jupyter's `normalize.less` sets `[hidden] { display: none; }` but bootstrap.min.css set `[hidden] { display: none !important; }` so we also need the `!important` here to be able to override the default hidden behavior on the sphinx rendered scikit-learn.org. See: https://github.com/scikit-learn/scikit-learn/issues/21755 */display: inline-block !important;position: relative;}#sk-container-id-1 div.sk-text-repr-fallback {display: none;}</style><div id=\"sk-container-id-1\" class=\"sk-top-container\"><div class=\"sk-text-repr-fallback\"><pre>DecisionTreeClassifier(max_depth=3000, random_state=42)</pre><b>In a Jupyter environment, please rerun this cell to show the HTML representation or trust the notebook. <br />On GitHub, the HTML representation is unable to render, please try loading this page with nbviewer.org.</b></div><div class=\"sk-container\" hidden><div class=\"sk-item\"><div class=\"sk-estimator sk-toggleable\"><input class=\"sk-toggleable__control sk-hidden--visually\" id=\"sk-estimator-id-1\" type=\"checkbox\" checked><label for=\"sk-estimator-id-1\" class=\"sk-toggleable__label sk-toggleable__label-arrow\">DecisionTreeClassifier</label><div class=\"sk-toggleable__content\"><pre>DecisionTreeClassifier(max_depth=3000, random_state=42)</pre></div></div></div></div></div>"
      ],
      "text/plain": [
       "DecisionTreeClassifier(max_depth=3000, random_state=42)"
      ]
     },
     "execution_count": 13,
     "metadata": {},
     "output_type": "execute_result"
    }
   ],
   "source": [
    "decision_tree = DecisionTreeClassifier(max_depth=3000, random_state=42)\n",
    "decision_tree.fit(x_train_scaled, y_train)"
   ]
  },
  {
   "cell_type": "markdown",
   "id": "fe6cf8ba-bad0-48a3-afc1-864177f66c38",
   "metadata": {},
   "source": [
    "### Now, let's do some predictions using the testing set.\n",
    "\n",
    "<hr style = \"border: none; height: 4px; background-color: rebeccapurple;\">\n",
    "\n",
    "- Let's start by predicting the digit in the first test sample.\n",
    "\n",
    "<hr style = \"border: none; height: 4px; background-color: rebeccapurple;\">"
   ]
  },
  {
   "cell_type": "code",
   "execution_count": 14,
   "id": "8d44621a-d188-408e-87f7-f1a8e99aa66a",
   "metadata": {},
   "outputs": [
    {
     "name": "stdout",
     "output_type": "stream",
     "text": [
      "[1]\n"
     ]
    }
   ],
   "source": [
    "print(decision_tree.predict(x_test_scaled[0].reshape(1,-1)))"
   ]
  },
  {
   "cell_type": "markdown",
   "id": "d782c4bd-b6f9-4b98-a0d4-dc8209a48e87",
   "metadata": {},
   "source": [
    "<hr style = \"border: none; height: 4px; background-color: rebeccapurple;\">\n",
    "\n",
    "- The algorithm predicts that the digit in the first test sample is 1.\n",
    "- Let's confirm this prediction by visualizing it.\n",
    "\n",
    "<hr style = \"border: none; height: 4px; background-color: rebeccapurple;\">"
   ]
  },
  {
   "cell_type": "code",
   "execution_count": 15,
   "id": "815d429d-c314-4cbb-be20-13ee9c96c318",
   "metadata": {},
   "outputs": [
    {
     "data": {
      "image/png": "[encoded data removed]",
      "text/plain": [
       "<Figure size 640x480 with 1 Axes>"
      ]
     },
     "metadata": {},
     "output_type": "display_data"
    }
   ],
   "source": [
    "plt.imshow(x_test[0].reshape(8, 8), cmap=plt.cm.gray)\n",
    "plt.title('TRUE LABEL: %i' % y_test[0])\n",
    "plt.show()"
   ]
  },
  {
   "cell_type": "markdown",
   "id": "f8ce010e-31a2-43fa-8c1b-1b9ff2e78612",
   "metadata": {},
   "source": [
    "<hr style = \"border: none; height: 4px; background-color: rebeccapurple;\">\n",
    "\n",
    "- Oops! that does not look good. The prediction is incorrect. But, let's see what happens when we increase the number of samples.\n",
    "\n",
    "<hr style = \"border: none; height: 4px; background-color: rebeccapurple;\">\n",
    "\n",
    "### Let's test the algorithm on the first 100 samples.\n",
    "\n",
    "<hr style = \"border: none; height: 4px; background-color: rebeccapurple;\">"
   ]
  },
  {
   "cell_type": "code",
   "execution_count": 16,
   "id": "a8b9c8e4-141a-4dd1-bba3-a1bf5974d000",
   "metadata": {},
   "outputs": [
    {
     "data": {
      "text/plain": [
       "array([1, 0, 9, 1, 7, 7, 9, 5, 1, 6, 6, 7, 6, 1, 5, 5, 8, 6, 2, 7, 4, 6,\n",
       "       4, 1, 5, 2, 9, 5, 4, 6, 5, 6, 3, 4, 0, 9, 9, 8, 0, 6, 8, 1, 5, 7,\n",
       "       9, 8, 9, 6, 1, 3, 0, 1, 9, 7, 3, 3, 1, 3, 8, 8, 9, 8, 5, 9, 9, 8,\n",
       "       2, 5, 3, 4, 3, 9, 3, 8, 7, 3, 3, 0, 8, 7, 2, 3, 5, 2, 8, 7, 6, 4,\n",
       "       6, 2, 2, 0, 4, 4, 5, 3, 5, 7, 7, 8])"
      ]
     },
     "execution_count": 16,
     "metadata": {},
     "output_type": "execute_result"
    }
   ],
   "source": [
    "decision_tree.predict(x_test_scaled[0:100])"
   ]
  },
  {
   "cell_type": "markdown",
   "id": "5923a16f-4f2f-46ee-934e-9b00f3c5e62d",
   "metadata": {},
   "source": [
    "<hr style = \"border: none; height: 4px; background-color: rebeccapurple;\">\n",
    "\n",
    "- We have our predictions from the algorithm, but what do these numbers truly indicate?\n",
    "- These represent the predicted digits for the first few samples. However, how accurate are these predictions, and how well does the algorithm perform across different samples?\n",
    "- These are important questions that require further analysis to answer!\n",
    "\n",
    "\n",
    "\n",
    "<hr style = \"border: none; height: 4px; background-color: rebeccapurple;\">\n",
    "\n",
    "### Now, let's try to answer these questions!\n",
    "\n",
    "<hr style = \"border: none; height: 4px; background-color: rebeccapurple;\">\n",
    "\n",
    "- But, first let's make some predictions on the whole testing set.\n",
    "\n",
    "<hr style = \"border: none; height: 4px; background-color: rebeccapurple;\">"
   ]
  },
  {
   "cell_type": "code",
   "execution_count": 17,
   "id": "6d21a69c-d477-41bb-9c0a-500c23a62ab7",
   "metadata": {},
   "outputs": [],
   "source": [
    "predictions = decision_tree.predict(x_test_scaled)"
   ]
  },
  {
   "cell_type": "markdown",
   "id": "16b51c48-1b7c-4dcc-8820-a40ffacbee41",
   "metadata": {},
   "source": [
    "### Let’s perform a more in-depth analysis of the algorithm’s performance by examining the classification report.\n",
    "\n",
    "<hr style = \"border: none; height: 4px; background-color: rebeccapurple;\">"
   ]
  },
  {
   "cell_type": "code",
   "execution_count": 18,
   "id": "3551df98-5be5-4cdc-b3be-4870a8ef380d",
   "metadata": {},
   "outputs": [
    {
     "name": "stdout",
     "output_type": "stream",
     "text": [
      "              precision    recall  f1-score   support\n",
      "\n",
      "           0       0.96      0.94      0.95        54\n",
      "           1       0.74      0.66      0.70        56\n",
      "           2       0.88      0.85      0.87        54\n",
      "           3       0.91      0.81      0.85        62\n",
      "           4       0.91      0.79      0.85        53\n",
      "           5       0.94      0.86      0.90        59\n",
      "           6       0.92      0.96      0.94        56\n",
      "           7       0.88      0.91      0.89        55\n",
      "           8       0.63      0.77      0.69        47\n",
      "           9       0.65      0.84      0.73        44\n",
      "\n",
      "    accuracy                           0.84       540\n",
      "   macro avg       0.84      0.84      0.84       540\n",
      "weighted avg       0.85      0.84      0.84       540\n",
      "\n"
     ]
    }
   ],
   "source": [
    "report = classification_report(y_test, predictions, target_names=[str(i) for i in range(10)])\n",
    "print(report)"
   ]
  },
  {
   "cell_type": "markdown",
   "id": "6635e58e-c2d6-486c-943c-900f79de3a98",
   "metadata": {},
   "source": [
    "<hr style = \"border: none; height: 4px; background-color: rebeccapurple;\">\n",
    "\n",
    "- The algorithm achieved an accuracy score of 0.84 on the testing set. This means that approximately 84% of the test samples were classified correctly.\n",
    "- The algorithm had its best performance predicting digit 0, with an f1-score of 0.95, and had its lowest performance predicting digit 8, with an f1-score of 0.69.\n",
    "\n",
    "<hr style = \"border: none; height: 4px; background-color: rebeccapurple;\">\n"
   ]
  },
  {
   "cell_type": "code",
   "execution_count": 19,
   "id": "00e0f3af-ad50-43b7-b1f7-38afa5f2de98",
   "metadata": {},
   "outputs": [
    {
     "data": {
      "image/png": "[encoded data removed]",
      "text/plain": [
       "<Figure size 1000x700 with 2 Axes>"
      ]
     },
     "metadata": {},
     "output_type": "display_data"
    }
   ],
   "source": [
    "conf_matrix = confusion_matrix(y_test, predictions)\n",
    "plt.figure(figsize=(10, 7))\n",
    "sns.heatmap(conf_matrix, annot=True, fmt='d', cmap='Blues', xticklabels=[str(i) for i in range(10)],\n",
    "            yticklabels=[str(i) for i in range(10)])\n",
    "plt.xlabel('PREDICTED LABELS')\n",
    "plt.ylabel('TRUE LABELS')\n",
    "plt.title('CONFUSION MATRIX')\n",
    "plt.show()"
   ]
  },
  {
   "cell_type": "markdown",
   "id": "eb52aeeb-70ca-4abe-b0b1-9ef5372e09a5",
   "metadata": {},
   "source": [
    "<hr style = \"border: none; height: 4px; background-color: rebeccapurple;\">\n",
    "\n",
    "- The algorithm performs well overall but struggles with certain digits, particularly 8 and 1, which might be due to overlapping features or noise in the dataset.\n",
    "- Some digits like 0 are easier for the algorithm to classify, indicating distinct features for this class.\n",
    "\n",
    "<hr style = \"border: none; height: 4px; background-color: rebeccapurple;\">"
   ]
  }
 ],
 "metadata": {
  "kernelspec": {
   "display_name": "Python 3 (ipykernel)",
   "language": "python",
   "name": "python3"
  },
  "language_info": {
   "codemirror_mode": {
    "name": "ipython",
    "version": 3
   },
   "file_extension": ".py",
   "mimetype": "text/x-python",
   "name": "python",
   "nbconvert_exporter": "python",
   "pygments_lexer": "ipython3",
   "version": "3.11.4"
  }
 },
 "nbformat": 4,
 "nbformat_minor": 5
}
